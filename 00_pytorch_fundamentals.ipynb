{
  "nbformat": 4,
  "nbformat_minor": 0,
  "metadata": {
    "colab": {
      "provenance": [],
      "authorship_tag": "ABX9TyPnzFocEZmv5FBHOH8B0OkU",
      "include_colab_link": true
    },
    "kernelspec": {
      "name": "python3",
      "display_name": "Python 3"
    },
    "language_info": {
      "name": "python"
    }
  },
  "cells": [
    {
      "cell_type": "markdown",
      "metadata": {
        "id": "view-in-github",
        "colab_type": "text"
      },
      "source": [
        "<a href=\"https://colab.research.google.com/github/JaimeCabrera-Softtek/pytorch/blob/main/00_pytorch_fundamentals.ipynb\" target=\"_parent\"><img src=\"https://colab.research.google.com/assets/colab-badge.svg\" alt=\"Open In Colab\"/></a>"
      ]
    },
    {
      "cell_type": "code",
      "source": [
        "import torch\n",
        "print(torch.__version__)"
      ],
      "metadata": {
        "colab": {
          "base_uri": "https://localhost:8080/"
        },
        "id": "WJqAszy0cH6V",
        "outputId": "580e2e25-7433-4935-acbc-3601a9272d4c"
      },
      "execution_count": null,
      "outputs": [
        {
          "output_type": "stream",
          "name": "stdout",
          "text": [
            "2.3.1+cu121\n"
          ]
        }
      ]
    },
    {
      "cell_type": "markdown",
      "source": [
        "## Introduction to Tensors\n",
        "\n",
        "### Creating tensors\n"
      ],
      "metadata": {
        "id": "R3C4c7q1c1qa"
      }
    },
    {
      "cell_type": "code",
      "source": [
        "# scalar\n",
        "scalar = torch.tensor(7)\n",
        "scalar"
      ],
      "metadata": {
        "colab": {
          "base_uri": "https://localhost:8080/"
        },
        "id": "e-d9o1xldKOf",
        "outputId": "c02c6060-6695-43a7-d8ca-e88db95aec94"
      },
      "execution_count": null,
      "outputs": [
        {
          "output_type": "execute_result",
          "data": {
            "text/plain": [
              "tensor(7)"
            ]
          },
          "metadata": {},
          "execution_count": 10
        }
      ]
    },
    {
      "cell_type": "code",
      "source": [
        "scalar.dim()"
      ],
      "metadata": {
        "colab": {
          "base_uri": "https://localhost:8080/"
        },
        "id": "G564LsyUc_QW",
        "outputId": "993b9496-1c91-4ea7-a076-13278fbdf88e"
      },
      "execution_count": null,
      "outputs": [
        {
          "output_type": "execute_result",
          "data": {
            "text/plain": [
              "0"
            ]
          },
          "metadata": {},
          "execution_count": 12
        }
      ]
    },
    {
      "cell_type": "code",
      "source": [
        "# Get tensor back as Python int\n",
        "scalar.item()"
      ],
      "metadata": {
        "colab": {
          "base_uri": "https://localhost:8080/"
        },
        "id": "t0ureOksdWzS",
        "outputId": "eab7acb8-1338-482f-b78c-dd4bca417015"
      },
      "execution_count": null,
      "outputs": [
        {
          "output_type": "execute_result",
          "data": {
            "text/plain": [
              "7"
            ]
          },
          "metadata": {},
          "execution_count": 13
        }
      ]
    },
    {
      "cell_type": "code",
      "source": [
        "# Vector\n",
        "vector = torch.tensor([7, 7])\n",
        "vector"
      ],
      "metadata": {
        "colab": {
          "base_uri": "https://localhost:8080/"
        },
        "id": "SPAK4L0PdrfU",
        "outputId": "693f243c-e81d-41fc-98c1-f1d5ebc75751"
      },
      "execution_count": null,
      "outputs": [
        {
          "output_type": "execute_result",
          "data": {
            "text/plain": [
              "tensor([7, 7])"
            ]
          },
          "metadata": {},
          "execution_count": 15
        }
      ]
    },
    {
      "cell_type": "code",
      "source": [
        "vector.dim()"
      ],
      "metadata": {
        "colab": {
          "base_uri": "https://localhost:8080/"
        },
        "id": "r4_2OYHhd6QE",
        "outputId": "e54b3142-2bdd-435f-83d3-e90df6cc60cd"
      },
      "execution_count": null,
      "outputs": [
        {
          "output_type": "execute_result",
          "data": {
            "text/plain": [
              "1"
            ]
          },
          "metadata": {},
          "execution_count": 16
        }
      ]
    },
    {
      "cell_type": "code",
      "source": [
        "vector.shape"
      ],
      "metadata": {
        "colab": {
          "base_uri": "https://localhost:8080/"
        },
        "id": "E_cPlaoud8DP",
        "outputId": "f75eb809-82ee-4fa3-9568-38c6355a3c97"
      },
      "execution_count": null,
      "outputs": [
        {
          "output_type": "execute_result",
          "data": {
            "text/plain": [
              "torch.Size([2])"
            ]
          },
          "metadata": {},
          "execution_count": 19
        }
      ]
    },
    {
      "cell_type": "code",
      "source": [
        "# MATRIX\n",
        "MATRIX = torch.tensor([[7, 8],\n",
        "                       [9, 10]])\n",
        "MATRIX"
      ],
      "metadata": {
        "colab": {
          "base_uri": "https://localhost:8080/"
        },
        "id": "MNbSUZFBeCAV",
        "outputId": "261c1992-1a9a-4bbc-8d8d-31ec331a49a2"
      },
      "execution_count": null,
      "outputs": [
        {
          "output_type": "execute_result",
          "data": {
            "text/plain": [
              "tensor([[ 7,  8],\n",
              "        [ 9, 10]])"
            ]
          },
          "metadata": {},
          "execution_count": 22
        }
      ]
    },
    {
      "cell_type": "code",
      "source": [
        "MATRIX.dim()"
      ],
      "metadata": {
        "colab": {
          "base_uri": "https://localhost:8080/"
        },
        "id": "t4b5WNzTeAss",
        "outputId": "aef21300-730b-46d6-b233-a430f55704e3"
      },
      "execution_count": null,
      "outputs": [
        {
          "output_type": "execute_result",
          "data": {
            "text/plain": [
              "2"
            ]
          },
          "metadata": {},
          "execution_count": 23
        }
      ]
    },
    {
      "cell_type": "code",
      "source": [
        "MATRIX.shape"
      ],
      "metadata": {
        "colab": {
          "base_uri": "https://localhost:8080/"
        },
        "id": "GIyuMDgld-0j",
        "outputId": "ff989ed0-c4cb-4af0-ef94-9f240740f0a9"
      },
      "execution_count": null,
      "outputs": [
        {
          "output_type": "execute_result",
          "data": {
            "text/plain": [
              "torch.Size([2, 2])"
            ]
          },
          "metadata": {},
          "execution_count": 27
        }
      ]
    },
    {
      "cell_type": "code",
      "source": [
        "# TENSOR\n",
        "TENSOR = torch.tensor([[[[[1, 2, 3],\n",
        "                        [3, 6, 9],\n",
        "                        [2, 4, 5]]]]])\n",
        "TENSOR"
      ],
      "metadata": {
        "colab": {
          "base_uri": "https://localhost:8080/"
        },
        "id": "zc90mySlegFg",
        "outputId": "9d376f56-aecd-470c-a6f5-7afbe9fbf159"
      },
      "execution_count": null,
      "outputs": [
        {
          "output_type": "execute_result",
          "data": {
            "text/plain": [
              "tensor([[[[[1, 2, 3],\n",
              "           [3, 6, 9],\n",
              "           [2, 4, 5]]]]])"
            ]
          },
          "metadata": {},
          "execution_count": 69
        }
      ]
    },
    {
      "cell_type": "code",
      "source": [
        "TENSOR.dim()"
      ],
      "metadata": {
        "colab": {
          "base_uri": "https://localhost:8080/"
        },
        "id": "4lS-qjtAe5wL",
        "outputId": "00b0c85c-bdd4-40f8-86a0-1a47131d3e1b"
      },
      "execution_count": null,
      "outputs": [
        {
          "output_type": "execute_result",
          "data": {
            "text/plain": [
              "5"
            ]
          },
          "metadata": {},
          "execution_count": 70
        }
      ]
    },
    {
      "cell_type": "code",
      "source": [
        "TENSOR.shape"
      ],
      "metadata": {
        "colab": {
          "base_uri": "https://localhost:8080/"
        },
        "id": "CFSzTYgUeu7f",
        "outputId": "b46d5333-1af8-46a4-d53f-846ea99c7823"
      },
      "execution_count": null,
      "outputs": [
        {
          "output_type": "execute_result",
          "data": {
            "text/plain": [
              "torch.Size([1, 1, 1, 3, 3])"
            ]
          },
          "metadata": {},
          "execution_count": 71
        }
      ]
    },
    {
      "cell_type": "code",
      "source": [
        "print(TENSOR[0][0])\n",
        "print(TENSOR[0][0][0])\n",
        "print(TENSOR[0][0][0][0][2])"
      ],
      "metadata": {
        "colab": {
          "base_uri": "https://localhost:8080/"
        },
        "id": "8cf5EF6fh1mR",
        "outputId": "12c26085-e1c1-4865-a766-3715ac34913b"
      },
      "execution_count": null,
      "outputs": [
        {
          "output_type": "stream",
          "name": "stdout",
          "text": [
            "tensor([[[1, 2, 3],\n",
            "         [3, 6, 9],\n",
            "         [2, 4, 5]]])\n",
            "tensor([[1, 2, 3],\n",
            "        [3, 6, 9],\n",
            "        [2, 4, 5]])\n",
            "tensor(3)\n"
          ]
        }
      ]
    },
    {
      "cell_type": "markdown",
      "source": [
        "### Random tensors"
      ],
      "metadata": {
        "id": "aMIbSjEfiCv2"
      }
    },
    {
      "cell_type": "code",
      "source": [
        "# Create a random tensor of size (10, 10, 10, 4)\n",
        "random_tensor = torch.rand(10, 10, 10, 4)\n",
        "random_tensor = torch.rand(size=(10, 10, 10, 4)) # Using size\n",
        "random_tensor"
      ],
      "metadata": {
        "colab": {
          "base_uri": "https://localhost:8080/"
        },
        "collapsed": true,
        "id": "0LCMTqjhidx9",
        "outputId": "34c4fea1-3137-4b74-f0f1-c14f168f9f80"
      },
      "execution_count": null,
      "outputs": [
        {
          "output_type": "execute_result",
          "data": {
            "text/plain": [
              "tensor([[[[0.4913, 0.2710, 0.0386, 0.4154],\n",
              "          [0.9125, 0.9654, 0.4789, 0.8086],\n",
              "          [0.3023, 0.3212, 0.6996, 0.4668],\n",
              "          ...,\n",
              "          [0.1560, 0.2085, 0.1867, 0.7181],\n",
              "          [0.2308, 0.4469, 0.3489, 0.6849],\n",
              "          [0.3515, 0.2610, 0.4909, 0.5946]],\n",
              "\n",
              "         [[0.8292, 0.1176, 0.7480, 0.5948],\n",
              "          [0.5195, 0.5985, 0.0031, 0.2258],\n",
              "          [0.3884, 0.4424, 0.7002, 0.9826],\n",
              "          ...,\n",
              "          [0.5597, 0.1936, 0.1831, 0.7997],\n",
              "          [0.1323, 0.7390, 0.0594, 0.4635],\n",
              "          [0.4645, 0.4572, 0.8437, 0.6306]],\n",
              "\n",
              "         [[0.3701, 0.4790, 0.1434, 0.8458],\n",
              "          [0.0842, 0.2032, 0.1096, 0.9714],\n",
              "          [0.3978, 0.5077, 0.6879, 0.2876],\n",
              "          ...,\n",
              "          [0.1021, 0.4178, 0.3329, 0.5067],\n",
              "          [0.8126, 0.3822, 0.6313, 0.5420],\n",
              "          [0.8789, 0.6502, 0.0709, 0.1971]],\n",
              "\n",
              "         ...,\n",
              "\n",
              "         [[0.4698, 0.4277, 0.9224, 0.5414],\n",
              "          [0.1899, 0.6376, 0.3103, 0.8870],\n",
              "          [0.7916, 0.5078, 0.7423, 0.7169],\n",
              "          ...,\n",
              "          [0.0482, 0.2294, 0.5959, 0.9625],\n",
              "          [0.2538, 0.7766, 0.0979, 0.2483],\n",
              "          [0.4939, 0.5898, 0.5045, 0.6604]],\n",
              "\n",
              "         [[0.9190, 0.2085, 0.1622, 0.0710],\n",
              "          [0.1737, 0.9680, 0.7366, 0.5871],\n",
              "          [0.8501, 0.4581, 0.5004, 0.8542],\n",
              "          ...,\n",
              "          [0.9115, 0.6784, 0.5288, 0.0180],\n",
              "          [0.2993, 0.9879, 0.8552, 0.2510],\n",
              "          [0.8044, 0.9527, 0.4159, 0.6223]],\n",
              "\n",
              "         [[0.5173, 0.0024, 0.5652, 0.7800],\n",
              "          [0.3648, 0.5964, 0.1584, 0.6144],\n",
              "          [0.3108, 0.6476, 0.9940, 0.1172],\n",
              "          ...,\n",
              "          [0.5978, 0.2520, 0.8919, 0.1844],\n",
              "          [0.5900, 0.3491, 0.3117, 0.1802],\n",
              "          [0.0214, 0.7473, 0.0173, 0.0774]]],\n",
              "\n",
              "\n",
              "        [[[0.8927, 0.5664, 0.6429, 0.1007],\n",
              "          [0.9273, 0.5161, 0.7863, 0.2526],\n",
              "          [0.0936, 0.8304, 0.1776, 0.0911],\n",
              "          ...,\n",
              "          [0.3306, 0.6584, 0.0381, 0.6622],\n",
              "          [0.3528, 0.6031, 0.8606, 0.4283],\n",
              "          [0.8106, 0.6637, 0.3027, 0.9192]],\n",
              "\n",
              "         [[0.1383, 0.7836, 0.2781, 0.7955],\n",
              "          [0.3659, 0.0218, 0.3541, 0.5305],\n",
              "          [0.4923, 0.2032, 0.0231, 0.8903],\n",
              "          ...,\n",
              "          [0.4241, 0.2832, 0.9587, 0.5594],\n",
              "          [0.4674, 0.6622, 0.0718, 0.1274],\n",
              "          [0.9119, 0.8904, 0.4999, 0.2968]],\n",
              "\n",
              "         [[0.6287, 0.6004, 0.2470, 0.4189],\n",
              "          [0.5337, 0.6221, 0.9645, 0.8801],\n",
              "          [0.7327, 0.8679, 0.0488, 0.8337],\n",
              "          ...,\n",
              "          [0.8022, 0.6662, 0.7830, 0.2055],\n",
              "          [0.1212, 0.7045, 0.5740, 0.7644],\n",
              "          [0.2489, 0.0943, 0.9862, 0.3531]],\n",
              "\n",
              "         ...,\n",
              "\n",
              "         [[0.6872, 0.7072, 0.1381, 0.1742],\n",
              "          [0.6033, 0.4623, 0.6456, 0.2313],\n",
              "          [0.5253, 0.2064, 0.0156, 0.6667],\n",
              "          ...,\n",
              "          [0.0476, 0.5881, 0.9991, 0.8680],\n",
              "          [0.8767, 0.0312, 0.6560, 0.6520],\n",
              "          [0.1820, 0.1618, 0.3405, 0.2892]],\n",
              "\n",
              "         [[0.7282, 0.7684, 0.3074, 0.5644],\n",
              "          [0.8371, 0.0021, 0.8127, 0.4157],\n",
              "          [0.9261, 0.4628, 0.2139, 0.5080],\n",
              "          ...,\n",
              "          [0.9843, 0.7864, 0.1706, 0.9700],\n",
              "          [0.5563, 0.1989, 0.4323, 0.3302],\n",
              "          [0.6419, 0.0636, 0.7809, 0.1122]],\n",
              "\n",
              "         [[0.0055, 0.7267, 0.3372, 0.1347],\n",
              "          [0.3420, 0.8807, 0.6258, 0.5770],\n",
              "          [0.6816, 0.5555, 0.0494, 0.4994],\n",
              "          ...,\n",
              "          [0.1971, 0.0564, 0.5102, 0.2540],\n",
              "          [0.1096, 0.3861, 0.0048, 0.5381],\n",
              "          [0.9404, 0.3929, 0.1718, 0.1965]]],\n",
              "\n",
              "\n",
              "        [[[0.6026, 0.6987, 0.1089, 0.8367],\n",
              "          [0.0138, 0.7612, 0.8367, 0.3797],\n",
              "          [0.5457, 0.1378, 0.9958, 0.7341],\n",
              "          ...,\n",
              "          [0.7575, 0.3215, 0.5934, 0.9284],\n",
              "          [0.8790, 0.9446, 0.4151, 0.7291],\n",
              "          [0.4169, 0.5574, 0.5606, 0.6402]],\n",
              "\n",
              "         [[0.5672, 0.9266, 0.8238, 0.2774],\n",
              "          [0.5361, 0.0395, 0.0019, 0.2641],\n",
              "          [0.1030, 0.3534, 0.7726, 0.9828],\n",
              "          ...,\n",
              "          [0.1652, 0.4331, 0.4587, 0.9767],\n",
              "          [0.1656, 0.1774, 0.7057, 0.0129],\n",
              "          [0.7730, 0.8182, 0.0205, 0.5283]],\n",
              "\n",
              "         [[0.5109, 0.5427, 0.2107, 0.1361],\n",
              "          [0.0848, 0.8234, 0.6626, 0.2605],\n",
              "          [0.4784, 0.2258, 0.7085, 0.5891],\n",
              "          ...,\n",
              "          [0.3057, 0.4255, 0.1523, 0.4839],\n",
              "          [0.8562, 0.1543, 0.8991, 0.9098],\n",
              "          [0.9494, 0.7900, 0.5925, 0.6474]],\n",
              "\n",
              "         ...,\n",
              "\n",
              "         [[0.7737, 0.4839, 0.3232, 0.8988],\n",
              "          [0.1744, 0.6847, 0.5477, 0.1873],\n",
              "          [0.3126, 0.5925, 0.2904, 0.6847],\n",
              "          ...,\n",
              "          [0.1975, 0.3861, 0.0420, 0.2106],\n",
              "          [0.3322, 0.8605, 0.2671, 0.1559],\n",
              "          [0.3213, 0.9550, 0.0617, 0.9614]],\n",
              "\n",
              "         [[0.7528, 0.7543, 0.4611, 0.0568],\n",
              "          [0.4910, 0.0274, 0.3538, 0.8459],\n",
              "          [0.2805, 0.8022, 0.6899, 0.5760],\n",
              "          ...,\n",
              "          [0.6250, 0.7278, 0.1117, 0.3934],\n",
              "          [0.7885, 0.8564, 0.5910, 0.9265],\n",
              "          [0.7431, 0.3710, 0.2453, 0.7029]],\n",
              "\n",
              "         [[0.3093, 0.3987, 0.0704, 0.7395],\n",
              "          [0.4182, 0.6913, 0.9466, 0.3567],\n",
              "          [0.9146, 0.0385, 0.1230, 0.2376],\n",
              "          ...,\n",
              "          [0.7066, 0.8344, 0.4467, 0.1553],\n",
              "          [0.8747, 0.1321, 0.0589, 0.1104],\n",
              "          [0.2039, 0.4022, 0.4638, 0.0463]]],\n",
              "\n",
              "\n",
              "        ...,\n",
              "\n",
              "\n",
              "        [[[0.4597, 0.2896, 0.7658, 0.5900],\n",
              "          [0.4683, 0.4879, 0.5135, 0.7128],\n",
              "          [0.6812, 0.8708, 0.9375, 0.9190],\n",
              "          ...,\n",
              "          [0.3709, 0.9039, 0.3114, 0.0142],\n",
              "          [0.7552, 0.1697, 0.7645, 0.5829],\n",
              "          [0.2826, 0.2100, 0.8687, 0.0675]],\n",
              "\n",
              "         [[0.8383, 0.5399, 0.2390, 0.1253],\n",
              "          [0.2268, 0.7193, 0.1833, 0.6897],\n",
              "          [0.5380, 0.6649, 0.0471, 0.1117],\n",
              "          ...,\n",
              "          [0.5988, 0.1437, 0.2765, 0.1259],\n",
              "          [0.4039, 0.8664, 0.2741, 0.8934],\n",
              "          [0.5396, 0.7258, 0.4416, 0.2308]],\n",
              "\n",
              "         [[0.0053, 0.4868, 0.0620, 0.9932],\n",
              "          [0.6923, 0.4112, 0.8355, 0.4725],\n",
              "          [0.7682, 0.4500, 0.6789, 0.5200],\n",
              "          ...,\n",
              "          [0.2659, 0.3358, 0.6167, 0.6430],\n",
              "          [0.4557, 0.7736, 0.6239, 0.7214],\n",
              "          [0.9844, 0.3099, 0.5406, 0.9183]],\n",
              "\n",
              "         ...,\n",
              "\n",
              "         [[0.8841, 0.3977, 0.8476, 0.0648],\n",
              "          [0.8702, 0.8293, 0.0358, 0.5013],\n",
              "          [0.5735, 0.0920, 0.2329, 0.8260],\n",
              "          ...,\n",
              "          [0.5055, 0.9248, 0.6351, 0.3245],\n",
              "          [0.4801, 0.4482, 0.1693, 0.9529],\n",
              "          [0.2142, 0.5076, 0.0063, 0.8659]],\n",
              "\n",
              "         [[0.7000, 0.9925, 0.7716, 0.0723],\n",
              "          [0.1352, 0.5722, 0.0504, 0.1867],\n",
              "          [0.3026, 0.2539, 0.0119, 0.0360],\n",
              "          ...,\n",
              "          [0.7868, 0.7015, 0.6027, 0.3399],\n",
              "          [0.5635, 0.0728, 0.8794, 0.3801],\n",
              "          [0.0742, 0.9616, 0.2980, 0.8821]],\n",
              "\n",
              "         [[0.4260, 0.2168, 0.5913, 0.9029],\n",
              "          [0.2147, 0.6506, 0.7002, 0.8503],\n",
              "          [0.6653, 0.0071, 0.4229, 0.9621],\n",
              "          ...,\n",
              "          [0.7754, 0.1718, 0.3126, 0.3315],\n",
              "          [0.1633, 0.3711, 0.5009, 0.6510],\n",
              "          [0.3974, 0.9428, 0.0320, 0.4552]]],\n",
              "\n",
              "\n",
              "        [[[0.8355, 0.3989, 0.1351, 0.3115],\n",
              "          [0.8187, 0.3323, 0.0662, 0.3908],\n",
              "          [0.6905, 0.3394, 0.6555, 0.7752],\n",
              "          ...,\n",
              "          [0.1122, 0.0660, 0.0742, 0.7359],\n",
              "          [0.0178, 0.7523, 0.3258, 0.4489],\n",
              "          [0.1121, 0.0822, 0.6806, 0.9947]],\n",
              "\n",
              "         [[0.3833, 0.4798, 0.6239, 0.4033],\n",
              "          [0.5082, 0.8578, 0.8769, 0.1355],\n",
              "          [0.9341, 0.5060, 0.8094, 0.8072],\n",
              "          ...,\n",
              "          [0.5036, 0.5302, 0.9045, 0.9472],\n",
              "          [0.5520, 0.9870, 0.5802, 0.0805],\n",
              "          [0.8058, 0.7672, 0.3761, 0.6110]],\n",
              "\n",
              "         [[0.0961, 0.5008, 0.1238, 0.6932],\n",
              "          [0.0399, 0.5589, 0.9647, 0.3214],\n",
              "          [0.9824, 0.5012, 0.2000, 0.8335],\n",
              "          ...,\n",
              "          [0.7519, 0.8984, 0.3467, 0.4995],\n",
              "          [0.1285, 0.3377, 0.5009, 0.6010],\n",
              "          [0.0340, 0.6617, 0.0133, 0.9078]],\n",
              "\n",
              "         ...,\n",
              "\n",
              "         [[0.1463, 0.5221, 0.7318, 0.4046],\n",
              "          [0.7261, 0.2815, 0.6519, 0.3054],\n",
              "          [0.0778, 0.6925, 0.4998, 0.7902],\n",
              "          ...,\n",
              "          [0.6706, 0.0665, 0.6904, 0.3442],\n",
              "          [0.3159, 0.7936, 0.6836, 0.6339],\n",
              "          [0.7261, 0.8434, 0.9819, 0.3290]],\n",
              "\n",
              "         [[0.5184, 0.8585, 0.9096, 0.9459],\n",
              "          [0.1973, 0.2187, 0.1884, 0.2060],\n",
              "          [0.3148, 0.3631, 0.6290, 0.5782],\n",
              "          ...,\n",
              "          [0.3023, 0.0847, 0.5588, 0.7157],\n",
              "          [0.5759, 0.0108, 0.0169, 0.9213],\n",
              "          [0.7968, 0.6226, 0.8543, 0.3862]],\n",
              "\n",
              "         [[0.8550, 0.1652, 0.8879, 0.9167],\n",
              "          [0.3249, 0.8054, 0.8834, 0.6383],\n",
              "          [0.3021, 0.8415, 0.3114, 0.1444],\n",
              "          ...,\n",
              "          [0.9024, 0.8101, 0.3002, 0.9404],\n",
              "          [0.0025, 0.6362, 0.8113, 0.1721],\n",
              "          [0.6499, 0.7466, 0.4966, 0.6614]]],\n",
              "\n",
              "\n",
              "        [[[0.5349, 0.4459, 0.5727, 0.4903],\n",
              "          [0.5604, 0.0828, 0.5937, 0.7048],\n",
              "          [0.9212, 0.5190, 0.1595, 0.0352],\n",
              "          ...,\n",
              "          [0.0376, 0.2987, 0.1242, 0.4686],\n",
              "          [0.7058, 0.0927, 0.2581, 0.9558],\n",
              "          [0.3323, 0.1507, 0.2915, 0.4397]],\n",
              "\n",
              "         [[0.3160, 0.3375, 0.5811, 0.0825],\n",
              "          [0.0032, 0.3635, 0.3521, 0.6344],\n",
              "          [0.1813, 0.1773, 0.0457, 0.2938],\n",
              "          ...,\n",
              "          [0.4452, 0.3900, 0.7164, 0.4016],\n",
              "          [0.4021, 0.5725, 0.9478, 0.3221],\n",
              "          [0.2880, 0.8415, 0.5964, 0.6888]],\n",
              "\n",
              "         [[0.5040, 0.3957, 0.4098, 0.1282],\n",
              "          [0.6039, 0.9817, 0.2062, 0.8961],\n",
              "          [0.0631, 0.8688, 0.6043, 0.3596],\n",
              "          ...,\n",
              "          [0.1459, 0.2076, 0.0785, 0.1196],\n",
              "          [0.2811, 0.8069, 0.9457, 0.8950],\n",
              "          [0.2999, 0.2626, 0.6781, 0.0596]],\n",
              "\n",
              "         ...,\n",
              "\n",
              "         [[0.9050, 0.0245, 0.0409, 0.5064],\n",
              "          [0.0437, 0.3160, 0.0630, 0.9240],\n",
              "          [0.8875, 0.9872, 0.5789, 0.8509],\n",
              "          ...,\n",
              "          [0.7409, 0.0681, 0.4528, 0.9050],\n",
              "          [0.9695, 0.5273, 0.0719, 0.0173],\n",
              "          [0.7209, 0.8498, 0.2417, 0.3294]],\n",
              "\n",
              "         [[0.3114, 0.1201, 0.7768, 0.7990],\n",
              "          [0.3916, 0.0429, 0.1841, 0.7104],\n",
              "          [0.0039, 0.6407, 0.7743, 0.9297],\n",
              "          ...,\n",
              "          [0.2108, 0.0342, 0.8317, 0.8594],\n",
              "          [0.1143, 0.6954, 0.0935, 0.3118],\n",
              "          [0.2665, 0.2092, 0.7642, 0.6284]],\n",
              "\n",
              "         [[0.3915, 0.5997, 0.3752, 0.0110],\n",
              "          [0.2595, 0.0625, 0.1102, 0.1801],\n",
              "          [0.6310, 0.1294, 0.1011, 0.3809],\n",
              "          ...,\n",
              "          [0.4818, 0.3317, 0.4599, 0.5401],\n",
              "          [0.6711, 0.6180, 0.2118, 0.8173],\n",
              "          [0.7602, 0.3410, 0.4561, 0.1051]]]])"
            ]
          },
          "metadata": {},
          "execution_count": 111
        }
      ]
    },
    {
      "cell_type": "code",
      "source": [
        "random_tensor.dim()"
      ],
      "metadata": {
        "colab": {
          "base_uri": "https://localhost:8080/"
        },
        "id": "UEOqg9Yqi2sZ",
        "outputId": "d2a59832-6cc7-4757-8158-e8dd3695310e"
      },
      "execution_count": null,
      "outputs": [
        {
          "output_type": "execute_result",
          "data": {
            "text/plain": [
              "4"
            ]
          },
          "metadata": {},
          "execution_count": 105
        }
      ]
    },
    {
      "cell_type": "code",
      "source": [
        "random_tensor.shape"
      ],
      "metadata": {
        "colab": {
          "base_uri": "https://localhost:8080/"
        },
        "id": "Itq7KWiYjH8P",
        "outputId": "778d6321-1d88-465c-de80-e360028b9fdc"
      },
      "execution_count": null,
      "outputs": [
        {
          "output_type": "execute_result",
          "data": {
            "text/plain": [
              "torch.Size([10, 10, 10, 4])"
            ]
          },
          "metadata": {},
          "execution_count": 106
        }
      ]
    },
    {
      "cell_type": "code",
      "source": [
        "random_tensor[9][8]"
      ],
      "metadata": {
        "colab": {
          "base_uri": "https://localhost:8080/"
        },
        "collapsed": true,
        "id": "9S_AQVxTjLjl",
        "outputId": "aa15aec3-b387-41f9-9c8e-c6db66a5ac42"
      },
      "execution_count": null,
      "outputs": [
        {
          "output_type": "execute_result",
          "data": {
            "text/plain": [
              "tensor([[0.7606, 0.9493, 0.1880, 0.5408],\n",
              "        [0.7687, 0.2221, 0.2804, 0.6644],\n",
              "        [0.4458, 0.4697, 0.3456, 0.9099],\n",
              "        [0.3395, 0.9846, 0.5811, 0.4459],\n",
              "        [0.3730, 0.9458, 0.9778, 0.7619],\n",
              "        [0.1293, 0.2590, 0.5936, 0.1662],\n",
              "        [0.5330, 0.2056, 0.5622, 0.8063],\n",
              "        [0.1469, 0.6196, 0.1905, 0.5822],\n",
              "        [0.7111, 0.6950, 0.9218, 0.7299],\n",
              "        [0.5856, 0.4417, 0.2477, 0.4692]])"
            ]
          },
          "metadata": {},
          "execution_count": 108
        }
      ]
    },
    {
      "cell_type": "code",
      "source": [
        "# Create a random tensor with similar shape to an image tensor\n",
        "random_image_size_tensor = torch.rand(size=(3, 224, 224)) # color channels (R, G, B), height, width\n",
        "random_image_size_tensor.shape, random_image_size_tensor.dim()"
      ],
      "metadata": {
        "colab": {
          "base_uri": "https://localhost:8080/"
        },
        "id": "JVRVgd0wj0Zi",
        "outputId": "0e9b4755-d412-48af-a546-fc20a64eddab"
      },
      "execution_count": null,
      "outputs": [
        {
          "output_type": "execute_result",
          "data": {
            "text/plain": [
              "(torch.Size([3, 224, 224]), 3)"
            ]
          },
          "metadata": {},
          "execution_count": 112
        }
      ]
    },
    {
      "cell_type": "markdown",
      "source": [
        "### Zeroes and ones"
      ],
      "metadata": {
        "id": "SuXbeT1pk6jP"
      }
    },
    {
      "cell_type": "code",
      "source": [
        "# Create a tensor of all zeros\n",
        "zeros = torch.zeros(size=(10, 10))\n",
        "zeros"
      ],
      "metadata": {
        "colab": {
          "base_uri": "https://localhost:8080/"
        },
        "id": "5joIcgGmk9-z",
        "outputId": "cf2c7114-8c2d-4309-9aba-0f425a4e74d5"
      },
      "execution_count": null,
      "outputs": [
        {
          "output_type": "execute_result",
          "data": {
            "text/plain": [
              "tensor([[0., 0., 0., 0., 0., 0., 0., 0., 0., 0.],\n",
              "        [0., 0., 0., 0., 0., 0., 0., 0., 0., 0.],\n",
              "        [0., 0., 0., 0., 0., 0., 0., 0., 0., 0.],\n",
              "        [0., 0., 0., 0., 0., 0., 0., 0., 0., 0.],\n",
              "        [0., 0., 0., 0., 0., 0., 0., 0., 0., 0.],\n",
              "        [0., 0., 0., 0., 0., 0., 0., 0., 0., 0.],\n",
              "        [0., 0., 0., 0., 0., 0., 0., 0., 0., 0.],\n",
              "        [0., 0., 0., 0., 0., 0., 0., 0., 0., 0.],\n",
              "        [0., 0., 0., 0., 0., 0., 0., 0., 0., 0.],\n",
              "        [0., 0., 0., 0., 0., 0., 0., 0., 0., 0.]])"
            ]
          },
          "metadata": {},
          "execution_count": 113
        }
      ]
    },
    {
      "cell_type": "code",
      "source": [
        "# Create a tensor of all ones\n",
        "ones = torch.ones(size=(10, 10))\n",
        "ones"
      ],
      "metadata": {
        "colab": {
          "base_uri": "https://localhost:8080/"
        },
        "id": "Zh1arS--lFbC",
        "outputId": "69e2ffd9-9563-4e3a-de35-8e3e0ca45447"
      },
      "execution_count": null,
      "outputs": [
        {
          "output_type": "execute_result",
          "data": {
            "text/plain": [
              "tensor([[1., 1., 1., 1., 1., 1., 1., 1., 1., 1.],\n",
              "        [1., 1., 1., 1., 1., 1., 1., 1., 1., 1.],\n",
              "        [1., 1., 1., 1., 1., 1., 1., 1., 1., 1.],\n",
              "        [1., 1., 1., 1., 1., 1., 1., 1., 1., 1.],\n",
              "        [1., 1., 1., 1., 1., 1., 1., 1., 1., 1.],\n",
              "        [1., 1., 1., 1., 1., 1., 1., 1., 1., 1.],\n",
              "        [1., 1., 1., 1., 1., 1., 1., 1., 1., 1.],\n",
              "        [1., 1., 1., 1., 1., 1., 1., 1., 1., 1.],\n",
              "        [1., 1., 1., 1., 1., 1., 1., 1., 1., 1.],\n",
              "        [1., 1., 1., 1., 1., 1., 1., 1., 1., 1.]])"
            ]
          },
          "metadata": {},
          "execution_count": 115
        }
      ]
    },
    {
      "cell_type": "code",
      "source": [
        "ones.dtype"
      ],
      "metadata": {
        "colab": {
          "base_uri": "https://localhost:8080/"
        },
        "id": "a9Av2x-AlWbz",
        "outputId": "59eab044-48ca-498f-d4a2-72e93c62df8f"
      },
      "execution_count": null,
      "outputs": [
        {
          "output_type": "execute_result",
          "data": {
            "text/plain": [
              "torch.float32"
            ]
          },
          "metadata": {},
          "execution_count": 116
        }
      ]
    },
    {
      "cell_type": "markdown",
      "source": [
        "### Create a range of tensors and tensors-like"
      ],
      "metadata": {
        "id": "H4WsU8pElbit"
      }
    },
    {
      "cell_type": "code",
      "source": [
        "# Use torch.arange()\n",
        "one_to_ten = torch.arange(start=1, end=11, step=1)\n",
        "one_to_ten"
      ],
      "metadata": {
        "colab": {
          "base_uri": "https://localhost:8080/"
        },
        "id": "5_4YYw0kllk5",
        "outputId": "7109084d-7919-4e5f-ec89-608076757084"
      },
      "execution_count": null,
      "outputs": [
        {
          "output_type": "execute_result",
          "data": {
            "text/plain": [
              "tensor([ 1,  2,  3,  4,  5,  6,  7,  8,  9, 10])"
            ]
          },
          "metadata": {},
          "execution_count": 127
        }
      ]
    },
    {
      "cell_type": "code",
      "source": [
        "# Creating tensors like\n",
        "ten_ones = torch.ones_like(input=one_to_ten)\n",
        "ten_ones"
      ],
      "metadata": {
        "colab": {
          "base_uri": "https://localhost:8080/"
        },
        "id": "p--ttO_zmdGv",
        "outputId": "36dd3560-571a-488d-d394-58230f8946c8"
      },
      "execution_count": null,
      "outputs": [
        {
          "output_type": "execute_result",
          "data": {
            "text/plain": [
              "tensor([1, 1, 1, 1, 1, 1, 1, 1, 1, 1])"
            ]
          },
          "metadata": {},
          "execution_count": 128
        }
      ]
    },
    {
      "cell_type": "markdown",
      "source": [
        "### Tensor datatypes"
      ],
      "metadata": {
        "id": "gbyY-bw_m5gB"
      }
    },
    {
      "cell_type": "code",
      "source": [
        "# Float 32 tensor\n",
        "float_32_tensor = torch.tensor([3.0, 6.0, 9.0],\n",
        "                               dtype=torch.float32, # what datatype is the tensor (e.g. float32 of float16)\n",
        "                               device=None, # what device is your tensor on\n",
        "                               requires_grad=False) # whether or not to track gradients with this tensor operations\n",
        "float_32_tensor.dtype"
      ],
      "metadata": {
        "colab": {
          "base_uri": "https://localhost:8080/"
        },
        "id": "5ZoCCzeYnxy3",
        "outputId": "cb77c713-c9fc-48e6-cbd0-47b06e85800e"
      },
      "execution_count": null,
      "outputs": [
        {
          "output_type": "execute_result",
          "data": {
            "text/plain": [
              "torch.float32"
            ]
          },
          "metadata": {},
          "execution_count": 139
        }
      ]
    },
    {
      "cell_type": "code",
      "source": [
        "# Change tensor datatype\n",
        "float_16_tensor = float_32_tensor.type(torch.float16)\n",
        "float_16_tensor"
      ],
      "metadata": {
        "colab": {
          "base_uri": "https://localhost:8080/"
        },
        "id": "m_HFOlsto-3o",
        "outputId": "94d61b8d-69a9-4ebc-88b6-ed011c152035"
      },
      "execution_count": null,
      "outputs": [
        {
          "output_type": "execute_result",
          "data": {
            "text/plain": [
              "tensor([3., 6., 9.], dtype=torch.float16)"
            ]
          },
          "metadata": {},
          "execution_count": 142
        }
      ]
    },
    {
      "cell_type": "code",
      "source": [
        "float_16_tensor * float_32_tensor"
      ],
      "metadata": {
        "colab": {
          "base_uri": "https://localhost:8080/"
        },
        "id": "2l6iUQaupMgK",
        "outputId": "88d9d18c-b767-43fb-d77c-aa647ecf2c0d"
      },
      "execution_count": null,
      "outputs": [
        {
          "output_type": "execute_result",
          "data": {
            "text/plain": [
              "tensor([ 9., 36., 81.])"
            ]
          },
          "metadata": {},
          "execution_count": 144
        }
      ]
    },
    {
      "cell_type": "markdown",
      "source": [
        "### Getting information from tensors\n",
        "\n",
        "1. Tensors not right datatype - `tensor.dtype`\n",
        "2. Tensors not right shape - `tensor.shape`\n",
        "3. Tensors not on the right device - `tensor.device`"
      ],
      "metadata": {
        "id": "u2ze3s10rLKZ"
      }
    },
    {
      "cell_type": "code",
      "source": [
        "# Create a tensor\n",
        "some_tensor = torch.rand(3, 4)\n",
        "some_tensor"
      ],
      "metadata": {
        "colab": {
          "base_uri": "https://localhost:8080/"
        },
        "id": "0TRvxVcXrsNH",
        "outputId": "212dc1ea-5381-4cc3-85c3-e806560f6b80"
      },
      "execution_count": null,
      "outputs": [
        {
          "output_type": "execute_result",
          "data": {
            "text/plain": [
              "tensor([[0.4154, 0.6105, 0.1093, 0.5128],\n",
              "        [0.6621, 0.1969, 0.3835, 0.6328],\n",
              "        [0.6232, 0.4964, 0.8370, 0.3023]])"
            ]
          },
          "metadata": {},
          "execution_count": 145
        }
      ]
    },
    {
      "cell_type": "code",
      "source": [
        "# Find out some details about some tensor\n",
        "print(some_tensor)\n",
        "print(f\"Datatype of tensor: {some_tensor.dtype}\")\n",
        "print(f\"Shape of tensor: {some_tensor.shape}\")\n",
        "print(f\"Device tensor is on: {some_tensor.device}\")"
      ],
      "metadata": {
        "colab": {
          "base_uri": "https://localhost:8080/"
        },
        "id": "Yb4IHpLfr30r",
        "outputId": "ce89c8f3-5aff-414e-8fac-b01128bffd4e"
      },
      "execution_count": null,
      "outputs": [
        {
          "output_type": "stream",
          "name": "stdout",
          "text": [
            "tensor([[0.4154, 0.6105, 0.1093, 0.5128],\n",
            "        [0.6621, 0.1969, 0.3835, 0.6328],\n",
            "        [0.6232, 0.4964, 0.8370, 0.3023]])\n",
            "Datatype of tensor: torch.float32\n",
            "Shape of tensor: torch.Size([3, 4])\n",
            "Device tensor is on: cpu\n"
          ]
        }
      ]
    },
    {
      "cell_type": "markdown",
      "source": [
        "### Manipulating Tensors (tensor operations)\n",
        "\n",
        "Tensor operations include:\n",
        "* Addition\n",
        "* Subtraction\n",
        "* Multiplication\n",
        "* Division\n",
        "* Matrix multiplication"
      ],
      "metadata": {
        "id": "kt-2mDLUsv3o"
      }
    },
    {
      "cell_type": "code",
      "source": [
        "# Create a tensor and add 10 to it\n",
        "tensor = torch.tensor([1, 2, 3])\n",
        "tensor + 10"
      ],
      "metadata": {
        "colab": {
          "base_uri": "https://localhost:8080/"
        },
        "id": "4SkhHWaYtF9-",
        "outputId": "59a0d870-c6d8-442b-8ecc-02881527b235"
      },
      "execution_count": null,
      "outputs": [
        {
          "output_type": "execute_result",
          "data": {
            "text/plain": [
              "tensor([11, 12, 13])"
            ]
          },
          "metadata": {},
          "execution_count": 151
        }
      ]
    },
    {
      "cell_type": "code",
      "source": [
        "# Multiply tensor by 10\n",
        "tensor * 10"
      ],
      "metadata": {
        "colab": {
          "base_uri": "https://localhost:8080/"
        },
        "id": "MP0v77Yxs1jt",
        "outputId": "162bccb2-e9cd-4047-bb09-00c8f410f28e"
      },
      "execution_count": null,
      "outputs": [
        {
          "output_type": "execute_result",
          "data": {
            "text/plain": [
              "tensor([10, 20, 30])"
            ]
          },
          "metadata": {},
          "execution_count": 153
        }
      ]
    },
    {
      "cell_type": "code",
      "source": [
        "# Substract 10\n",
        "tensor - 10"
      ],
      "metadata": {
        "colab": {
          "base_uri": "https://localhost:8080/"
        },
        "id": "0iZJzbvktirc",
        "outputId": "b0e15684-db8c-41ed-9e72-830e84a945bd"
      },
      "execution_count": null,
      "outputs": [
        {
          "output_type": "execute_result",
          "data": {
            "text/plain": [
              "tensor([-9, -8, -7])"
            ]
          },
          "metadata": {},
          "execution_count": 162
        }
      ]
    },
    {
      "cell_type": "code",
      "source": [
        "# Divide by 10\n",
        "tensor / 10"
      ],
      "metadata": {
        "colab": {
          "base_uri": "https://localhost:8080/"
        },
        "id": "m1z_MA_Ouj6A",
        "outputId": "cadc1dac-6471-4161-88f8-1d4456361cdf"
      },
      "execution_count": null,
      "outputs": [
        {
          "output_type": "execute_result",
          "data": {
            "text/plain": [
              "tensor([0.1000, 0.2000, 0.3000])"
            ]
          },
          "metadata": {},
          "execution_count": 164
        }
      ]
    },
    {
      "cell_type": "code",
      "source": [
        "# Try out PyTorch in-built functions\n",
        "print(torch.sub(tensor, 10))\n",
        "print(torch.mul(tensor, 10))\n",
        "print(torch.add(tensor, 10))\n",
        "print(torch.div(tensor, 10))"
      ],
      "metadata": {
        "colab": {
          "base_uri": "https://localhost:8080/"
        },
        "id": "gLUQo5czuAgk",
        "outputId": "851b39a5-b39e-4d82-899b-338f0734f325"
      },
      "execution_count": null,
      "outputs": [
        {
          "output_type": "stream",
          "name": "stdout",
          "text": [
            "tensor([-9, -8, -7])\n",
            "tensor([10, 20, 30])\n",
            "tensor([11, 12, 13])\n",
            "tensor([0.1000, 0.2000, 0.3000])\n"
          ]
        }
      ]
    },
    {
      "cell_type": "markdown",
      "source": [
        "### Matrix multiplication\n",
        "\n",
        "Two main ways of perfoming multiplication in neural networks and deep learning:\n",
        "\n",
        "1. Element-wise multiplication\n",
        "2. Matrix multiplication (dot product)\n",
        "\n",
        "More information on multiplying matrices - https://www.mathsisfun.com/algebra/matrix-multiplying.html\n",
        "\n",
        "There are two main rules that performing matrix multiplication needs to satisfy:\n",
        "\n",
        "1. The **iner dimensions** must match:\n",
        "\n",
        "The number of columns of the 1st matrix must equal the number of rows of the 2nd matrix.\n",
        "* `(3, 2) @ (3, 2)` won't work\n",
        "* `(2, 3) @ (3, 2)` will work\n",
        "* `(3, 2) @ (2, 3)` will work\n",
        "2. The resulting matrix has the shape of the **outer dimensions**:\n",
        "\n",
        "And the result will have the same number of rows as the 1st matrix, and the same number of columns as the 2nd matrix.\n",
        "* `(2, 3) @ (3, 2)` -> `(2, 2)`\n",
        "\n",
        "\n",
        "\n",
        "\n"
      ],
      "metadata": {
        "id": "GJKeth-auLI3"
      }
    },
    {
      "cell_type": "code",
      "source": [
        "# Element wise multiplication\n",
        "print(tensor, \"*\", tensor)\n",
        "print(f\"Equals: {tensor * tensor}\")"
      ],
      "metadata": {
        "colab": {
          "base_uri": "https://localhost:8080/"
        },
        "id": "CbMuu1xTwTLU",
        "outputId": "1c6dd4f0-c479-4d2e-855e-e734c6e635df"
      },
      "execution_count": null,
      "outputs": [
        {
          "output_type": "stream",
          "name": "stdout",
          "text": [
            "tensor([1, 2, 3]) * tensor([1, 2, 3])\n",
            "Equals: tensor([1, 4, 9])\n"
          ]
        }
      ]
    },
    {
      "cell_type": "code",
      "source": [
        "# Matrix multiplication\n",
        "torch.matmul(tensor, tensor)"
      ],
      "metadata": {
        "colab": {
          "base_uri": "https://localhost:8080/"
        },
        "id": "KPzYHJYAugNv",
        "outputId": "dde95d0e-f534-4cc6-aa85-6287d09f88e2"
      },
      "execution_count": null,
      "outputs": [
        {
          "output_type": "execute_result",
          "data": {
            "text/plain": [
              "tensor(14)"
            ]
          },
          "metadata": {},
          "execution_count": 168
        }
      ]
    },
    {
      "cell_type": "code",
      "source": [
        "# Matrix multiplication by hand\n",
        "1*1 + 2*2 + 3*3"
      ],
      "metadata": {
        "colab": {
          "base_uri": "https://localhost:8080/"
        },
        "id": "a_6-hgFtxkbe",
        "outputId": "b9afcb5a-aa24-4206-de30-7c89132dbe65"
      },
      "execution_count": null,
      "outputs": [
        {
          "output_type": "execute_result",
          "data": {
            "text/plain": [
              "14"
            ]
          },
          "metadata": {},
          "execution_count": 170
        }
      ]
    },
    {
      "cell_type": "markdown",
      "source": [
        "### One of the most common errors in deep learning: shape erros"
      ],
      "metadata": {
        "id": "OZuKv_C-1e_m"
      }
    },
    {
      "cell_type": "code",
      "source": [
        "# Shapes for matrix multiplication\n",
        "tensor_A = torch.tensor([[1, 2],\n",
        "                         [3, 4],\n",
        "                         [5, 6]])\n",
        "\n",
        "tensor_B = torch.tensor([[7, 10],\n",
        "                         [8, 11],\n",
        "                         [9, 12]])\n",
        "\n",
        "# torch.mm is the same as torch.matmul (it's an alias for writing less code)\n",
        "torch.mm(tensor_A, tensor_B)"
      ],
      "metadata": {
        "colab": {
          "base_uri": "https://localhost:8080/",
          "height": 193
        },
        "id": "E7ssWgYC1qiD",
        "outputId": "04b5a7e8-fcd7-413d-896f-a89abec939a6"
      },
      "execution_count": null,
      "outputs": [
        {
          "output_type": "error",
          "ename": "RuntimeError",
          "evalue": "mat1 and mat2 shapes cannot be multiplied (3x2 and 3x2)",
          "traceback": [
            "\u001b[0;31m---------------------------------------------------------------------------\u001b[0m",
            "\u001b[0;31mRuntimeError\u001b[0m                              Traceback (most recent call last)",
            "\u001b[0;32m<ipython-input-173-7c9cde997fba>\u001b[0m in \u001b[0;36m<cell line: 11>\u001b[0;34m()\u001b[0m\n\u001b[1;32m      9\u001b[0m \u001b[0;34m\u001b[0m\u001b[0m\n\u001b[1;32m     10\u001b[0m \u001b[0;31m# torch.mm is the same as torch.matmul (it's an alias for writing less code)\u001b[0m\u001b[0;34m\u001b[0m\u001b[0;34m\u001b[0m\u001b[0m\n\u001b[0;32m---> 11\u001b[0;31m \u001b[0mtorch\u001b[0m\u001b[0;34m.\u001b[0m\u001b[0mmm\u001b[0m\u001b[0;34m(\u001b[0m\u001b[0mtensor_A\u001b[0m\u001b[0;34m,\u001b[0m \u001b[0mtensor_B\u001b[0m\u001b[0;34m)\u001b[0m\u001b[0;34m\u001b[0m\u001b[0;34m\u001b[0m\u001b[0m\n\u001b[0m",
            "\u001b[0;31mRuntimeError\u001b[0m: mat1 and mat2 shapes cannot be multiplied (3x2 and 3x2)"
          ]
        }
      ]
    },
    {
      "cell_type": "markdown",
      "source": [
        "To fix our tensor shape issues, we can manipulate the shape of one of our tensors using a **transpose**.\n",
        "\n",
        "A **transpose** switches the axes or dimensions of a given tensor."
      ],
      "metadata": {
        "id": "BSeeRpoN23h6"
      }
    },
    {
      "cell_type": "code",
      "source": [
        "tensor_B, tensor_B.shape"
      ],
      "metadata": {
        "colab": {
          "base_uri": "https://localhost:8080/"
        },
        "id": "IMll4dv83RQU",
        "outputId": "f0129748-ae09-4f93-c511-160c5628597a"
      },
      "execution_count": null,
      "outputs": [
        {
          "output_type": "execute_result",
          "data": {
            "text/plain": [
              "(tensor([[ 7, 10],\n",
              "         [ 8, 11],\n",
              "         [ 9, 12]]),\n",
              " torch.Size([3, 2]))"
            ]
          },
          "metadata": {},
          "execution_count": 174
        }
      ]
    },
    {
      "cell_type": "code",
      "source": [
        "tensor_B.T, tensor_B.T.shape"
      ],
      "metadata": {
        "colab": {
          "base_uri": "https://localhost:8080/"
        },
        "id": "8SbIbOOc3ls4",
        "outputId": "da1e2f31-2ec8-4f15-ab53-2d3c3e002fbd"
      },
      "execution_count": null,
      "outputs": [
        {
          "output_type": "execute_result",
          "data": {
            "text/plain": [
              "(tensor([[ 7,  8,  9],\n",
              "         [10, 11, 12]]),\n",
              " torch.Size([2, 3]))"
            ]
          },
          "metadata": {},
          "execution_count": 179
        }
      ]
    },
    {
      "cell_type": "code",
      "source": [
        "# The matrix multiplication operations works when tensor_B is transposed\n",
        "print(f\"Original shapes: tensor_A = {tensor_A.shape}, tensor_B = {tensor_B.shape}\")\n",
        "print(f\"New shapes: tensor_A = {tensor_A.shape} (same shape as above), tensor_B.T = {tensor_B.T.shape}\")\n",
        "print(f\"Multiplying: {tensor_A.shape} @ {tensor_B.T.shape} <- inner dimensions must match\")\n",
        "print(\"Output:\\n\")\n",
        "output = torch.mm(tensor_A, tensor_B.T)\n",
        "print(output)\n",
        "print(f\"\\nOutput shape: {output.shape}\")"
      ],
      "metadata": {
        "id": "IqaL8Blm4dPO",
        "outputId": "77ce0275-07b9-4e75-b9c8-595d07af01d4",
        "colab": {
          "base_uri": "https://localhost:8080/"
        }
      },
      "execution_count": 181,
      "outputs": [
        {
          "output_type": "stream",
          "name": "stdout",
          "text": [
            "Original shapes: tensor_A = torch.Size([3, 2]), tensor_B = torch.Size([3, 2])\n",
            "New shapes: tensor_A = torch.Size([3, 2]) (same shape as above), tensor_B.T = torch.Size([2, 3])\n",
            "Multiplying: torch.Size([3, 2]) @ torch.Size([2, 3]) <- inner dimensions must match\n",
            "Output:\n",
            "\n",
            "tensor([[ 27,  30,  33],\n",
            "        [ 61,  68,  75],\n",
            "        [ 95, 106, 117]])\n",
            "\n",
            "Output shape: torch.Size([3, 3])\n"
          ]
        }
      ]
    },
    {
      "cell_type": "markdown",
      "source": [
        "## Finding the min, max, mean, sum, etc (tensor aggregation)"
      ],
      "metadata": {
        "id": "r__UiFf3Rvsf"
      }
    },
    {
      "cell_type": "code",
      "source": [
        "# Create a tensor\n",
        "x = torch.arange(0, 100, 10)\n",
        "x"
      ],
      "metadata": {
        "colab": {
          "base_uri": "https://localhost:8080/"
        },
        "id": "b8weF15UR2xf",
        "outputId": "eaa23d80-4371-49ed-c567-d59c8219172c"
      },
      "execution_count": 182,
      "outputs": [
        {
          "output_type": "execute_result",
          "data": {
            "text/plain": [
              "tensor([ 0, 10, 20, 30, 40, 50, 60, 70, 80, 90])"
            ]
          },
          "metadata": {},
          "execution_count": 182
        }
      ]
    },
    {
      "cell_type": "code",
      "source": [
        "# Find the min\n",
        "torch.min(x), x.min()"
      ],
      "metadata": {
        "colab": {
          "base_uri": "https://localhost:8080/"
        },
        "id": "Ft4xVh7_SCD3",
        "outputId": "c2d5b24e-5f15-4f15-cb0b-0851c599e9d8"
      },
      "execution_count": 192,
      "outputs": [
        {
          "output_type": "execute_result",
          "data": {
            "text/plain": [
              "(tensor(0), tensor(0))"
            ]
          },
          "metadata": {},
          "execution_count": 192
        }
      ]
    },
    {
      "cell_type": "code",
      "source": [
        "# Find the max\n",
        "torch.max(x), x.max()"
      ],
      "metadata": {
        "colab": {
          "base_uri": "https://localhost:8080/"
        },
        "id": "uPilyBK4SGih",
        "outputId": "31ffb9e8-1df1-4745-8748-5e1d7ca0e6ed"
      },
      "execution_count": 184,
      "outputs": [
        {
          "output_type": "execute_result",
          "data": {
            "text/plain": [
              "(tensor(90), tensor(90))"
            ]
          },
          "metadata": {},
          "execution_count": 184
        }
      ]
    },
    {
      "cell_type": "code",
      "source": [
        "# Find the mean - note: the torch.mean() function requieres a tensor\n",
        "# of float32 datatype to work\n",
        "torch.mean(x.type(torch.float32)), x.type(torch.float32).mean()"
      ],
      "metadata": {
        "colab": {
          "base_uri": "https://localhost:8080/"
        },
        "id": "C-33UQu8SLDZ",
        "outputId": "9b975497-74e5-4a03-b047-10b35aa61b2f"
      },
      "execution_count": 186,
      "outputs": [
        {
          "output_type": "execute_result",
          "data": {
            "text/plain": [
              "(tensor(45.), tensor(45.))"
            ]
          },
          "metadata": {},
          "execution_count": 186
        }
      ]
    },
    {
      "cell_type": "code",
      "source": [
        "# Find the sum\n",
        "torch.sum(x), x.sum()"
      ],
      "metadata": {
        "colab": {
          "base_uri": "https://localhost:8080/"
        },
        "id": "OS6nctTbTCAc",
        "outputId": "c967d803-5e5b-4d06-a17a-c10425860048"
      },
      "execution_count": 187,
      "outputs": [
        {
          "output_type": "execute_result",
          "data": {
            "text/plain": [
              "(tensor(450), tensor(450))"
            ]
          },
          "metadata": {},
          "execution_count": 187
        }
      ]
    },
    {
      "cell_type": "markdown",
      "source": [
        "## Finding the positional min and max"
      ],
      "metadata": {
        "id": "VFD6VV-YTSHq"
      }
    },
    {
      "cell_type": "code",
      "source": [
        "# Find the position in tensor that has the minimum value with argmin() -> returns\n",
        "# index position of target tensor where the minimum value occurs\n",
        "x.argmin(), torch.argmin(x)"
      ],
      "metadata": {
        "colab": {
          "base_uri": "https://localhost:8080/"
        },
        "id": "go9ySvmtUdwM",
        "outputId": "bff9db88-6b3a-4a4a-810c-ee6c841bb8af"
      },
      "execution_count": 197,
      "outputs": [
        {
          "output_type": "execute_result",
          "data": {
            "text/plain": [
              "(tensor(0), tensor(0))"
            ]
          },
          "metadata": {},
          "execution_count": 197
        }
      ]
    },
    {
      "cell_type": "code",
      "source": [
        "# Find the position in tensor that has the minimum value with argmax()\n",
        "x.argmax(), torch.argmax(x)"
      ],
      "metadata": {
        "colab": {
          "base_uri": "https://localhost:8080/"
        },
        "id": "2GrcnwfqVE2q",
        "outputId": "1ad07a63-1dae-4c98-c181-8c7ce022b2c4"
      },
      "execution_count": 196,
      "outputs": [
        {
          "output_type": "execute_result",
          "data": {
            "text/plain": [
              "(tensor(9), tensor(9))"
            ]
          },
          "metadata": {},
          "execution_count": 196
        }
      ]
    },
    {
      "cell_type": "markdown",
      "source": [
        "## Reshaping, stacking, squeezing and unsqueezing tensors\n",
        "\n",
        "* Reshaping - Reshapes an input tensor to a defined shape\n",
        "* View - Return a view of an input tensor of certain shape but keep the same memory as the original tensor\n",
        "* Stacking - Combine multiple tensors on top of each other (vstack) or side by side (hstack)\n",
        "* Squeeze - Removes all `1` dimensions from a tensor\n",
        "* Unsqueeze - Add a `1` dimension to a target tensor\n",
        "* Permute - Return a view of the input with dimensions permuted (swapped) in a certain way"
      ],
      "metadata": {
        "id": "NWZOPsEmSpFQ"
      }
    },
    {
      "cell_type": "code",
      "source": [
        "# Let´s create a tensor\n",
        "x = torch.arange(1., 21.)\n",
        "x, x.shape"
      ],
      "metadata": {
        "colab": {
          "base_uri": "https://localhost:8080/"
        },
        "id": "-nlP_9VuW3fO",
        "outputId": "b90100ce-87ea-4c53-ce1c-7d21d0bdd071"
      },
      "execution_count": 219,
      "outputs": [
        {
          "output_type": "execute_result",
          "data": {
            "text/plain": [
              "(tensor([ 1.,  2.,  3.,  4.,  5.,  6.,  7.,  8.,  9., 10., 11., 12., 13., 14.,\n",
              "         15., 16., 17., 18., 19., 20.]),\n",
              " torch.Size([20]))"
            ]
          },
          "metadata": {},
          "execution_count": 219
        }
      ]
    },
    {
      "cell_type": "code",
      "source": [
        "# Add an extra dimension\n",
        "x_reshaped = x.reshape(1, 2, 5, 2)\n",
        "x_reshaped, x_reshaped.shape"
      ],
      "metadata": {
        "colab": {
          "base_uri": "https://localhost:8080/"
        },
        "id": "8GU6TCZEXPYy",
        "outputId": "a0ed913b-33cb-4bbb-93f8-3a7a078f585f"
      },
      "execution_count": 231,
      "outputs": [
        {
          "output_type": "execute_result",
          "data": {
            "text/plain": [
              "(tensor([[[[ 5.,  2.],\n",
              "           [ 3.,  4.],\n",
              "           [ 5.,  6.],\n",
              "           [ 7.,  8.],\n",
              "           [ 9., 10.]],\n",
              " \n",
              "          [[11., 12.],\n",
              "           [13., 14.],\n",
              "           [15., 16.],\n",
              "           [17., 18.],\n",
              "           [19., 20.]]]]),\n",
              " torch.Size([1, 2, 5, 2]))"
            ]
          },
          "metadata": {},
          "execution_count": 231
        }
      ]
    },
    {
      "cell_type": "code",
      "source": [
        "# Change the view\n",
        "z = x.view(1, 20)\n",
        "z, z.shape"
      ],
      "metadata": {
        "colab": {
          "base_uri": "https://localhost:8080/"
        },
        "id": "XIFh5rnBXauI",
        "outputId": "0578434c-eb68-4572-8380-9903f01bb67c"
      },
      "execution_count": 222,
      "outputs": [
        {
          "output_type": "execute_result",
          "data": {
            "text/plain": [
              "(tensor([[ 1.,  2.,  3.,  4.,  5.,  6.,  7.,  8.,  9., 10., 11., 12., 13., 14.,\n",
              "          15., 16., 17., 18., 19., 20.]]),\n",
              " torch.Size([1, 20]))"
            ]
          },
          "metadata": {},
          "execution_count": 222
        }
      ]
    },
    {
      "cell_type": "code",
      "source": [
        "# Changing z changes x (because a view of a tensor shares the same\n",
        "# memory as the original input)\n",
        "z[:, 0] = 5 # z[:, 0] -> z[0][0]\n",
        "z, x"
      ],
      "metadata": {
        "colab": {
          "base_uri": "https://localhost:8080/"
        },
        "id": "ub0bZ-uFXD9V",
        "outputId": "8ed92505-4ad8-487c-88f7-85ee6d653359"
      },
      "execution_count": 226,
      "outputs": [
        {
          "output_type": "execute_result",
          "data": {
            "text/plain": [
              "(tensor([[ 5.,  2.,  3.,  4.,  5.,  6.,  7.,  8.,  9., 10., 11., 12., 13., 14.,\n",
              "          15., 16., 17., 18., 19., 20.]]),\n",
              " tensor([ 5.,  2.,  3.,  4.,  5.,  6.,  7.,  8.,  9., 10., 11., 12., 13., 14.,\n",
              "         15., 16., 17., 18., 19., 20.]))"
            ]
          },
          "metadata": {},
          "execution_count": 226
        }
      ]
    },
    {
      "cell_type": "code",
      "source": [
        "# Stack tensors on top of each other\n",
        "x_stacked = torch.stack([x, x, x, x], dim=0)\n",
        "x_stacked"
      ],
      "metadata": {
        "colab": {
          "base_uri": "https://localhost:8080/"
        },
        "id": "S5ofUfPOaONl",
        "outputId": "896c2001-88bc-4340-eeaf-d61f717b94f6"
      },
      "execution_count": 230,
      "outputs": [
        {
          "output_type": "execute_result",
          "data": {
            "text/plain": [
              "tensor([[ 5.,  2.,  3.,  4.,  5.,  6.,  7.,  8.,  9., 10., 11., 12., 13., 14.,\n",
              "         15., 16., 17., 18., 19., 20.],\n",
              "        [ 5.,  2.,  3.,  4.,  5.,  6.,  7.,  8.,  9., 10., 11., 12., 13., 14.,\n",
              "         15., 16., 17., 18., 19., 20.],\n",
              "        [ 5.,  2.,  3.,  4.,  5.,  6.,  7.,  8.,  9., 10., 11., 12., 13., 14.,\n",
              "         15., 16., 17., 18., 19., 20.],\n",
              "        [ 5.,  2.,  3.,  4.,  5.,  6.,  7.,  8.,  9., 10., 11., 12., 13., 14.,\n",
              "         15., 16., 17., 18., 19., 20.]])"
            ]
          },
          "metadata": {},
          "execution_count": 230
        }
      ]
    },
    {
      "cell_type": "code",
      "source": [
        "# torch.squeeze() - removes all single dimensions from a target tensor\n",
        "print(f\"Previous tensor: {x_reshaped}\")\n",
        "print(f\"Previous shape: {x_reshaped.shape}\")\n",
        "\n",
        "print(f\"\\nNew tensor: {x_reshaped.squeeze()}\")\n",
        "print(f\"New shape: {x_reshaped.squeeze().shape}\")"
      ],
      "metadata": {
        "colab": {
          "base_uri": "https://localhost:8080/"
        },
        "id": "gZuUBXU0bGNg",
        "outputId": "d650683d-5f8b-43d0-88fd-25f1dfaf6613"
      },
      "execution_count": 234,
      "outputs": [
        {
          "output_type": "stream",
          "name": "stdout",
          "text": [
            "Previous tensor: tensor([[[[ 5.,  2.],\n",
            "          [ 3.,  4.],\n",
            "          [ 5.,  6.],\n",
            "          [ 7.,  8.],\n",
            "          [ 9., 10.]],\n",
            "\n",
            "         [[11., 12.],\n",
            "          [13., 14.],\n",
            "          [15., 16.],\n",
            "          [17., 18.],\n",
            "          [19., 20.]]]])\n",
            "Previous shape: torch.Size([1, 2, 5, 2])\n",
            "\n",
            "New tensor: tensor([[[ 5.,  2.],\n",
            "         [ 3.,  4.],\n",
            "         [ 5.,  6.],\n",
            "         [ 7.,  8.],\n",
            "         [ 9., 10.]],\n",
            "\n",
            "        [[11., 12.],\n",
            "         [13., 14.],\n",
            "         [15., 16.],\n",
            "         [17., 18.],\n",
            "         [19., 20.]]])\n",
            "New shape: torch.Size([2, 5, 2])\n"
          ]
        }
      ]
    },
    {
      "cell_type": "code",
      "source": [
        "# torch.unsqueeze() - adds a single dimension to a target tensor at a specific dim (dimension)\n",
        "print(f\"Previous tensor: {x_reshaped.squeeze()}\")\n",
        "print(f\"Previous shape: {x_reshaped.squeeze().shape}\")\n",
        "\n",
        "# Add an extra dimension with unsqueeze\n",
        "x_unsqueezed = x_reshaped.squeeze().unsqueeze(dim=3)\n",
        "print(f\"\\nNew tensor: {x_unsqueezed}\")\n",
        "print(f\"New shape: {x_unsqueezed.shape}\")"
      ],
      "metadata": {
        "colab": {
          "base_uri": "https://localhost:8080/"
        },
        "id": "DhevNVAWcI-S",
        "outputId": "639ba437-9633-4530-89d5-7e1fed82edfb"
      },
      "execution_count": 238,
      "outputs": [
        {
          "output_type": "stream",
          "name": "stdout",
          "text": [
            "Previous tensor: tensor([[[ 5.,  2.],\n",
            "         [ 3.,  4.],\n",
            "         [ 5.,  6.],\n",
            "         [ 7.,  8.],\n",
            "         [ 9., 10.]],\n",
            "\n",
            "        [[11., 12.],\n",
            "         [13., 14.],\n",
            "         [15., 16.],\n",
            "         [17., 18.],\n",
            "         [19., 20.]]])\n",
            "Previous shape: torch.Size([2, 5, 2])\n",
            "\n",
            "New tensor: tensor([[[[ 5.],\n",
            "          [ 2.]],\n",
            "\n",
            "         [[ 3.],\n",
            "          [ 4.]],\n",
            "\n",
            "         [[ 5.],\n",
            "          [ 6.]],\n",
            "\n",
            "         [[ 7.],\n",
            "          [ 8.]],\n",
            "\n",
            "         [[ 9.],\n",
            "          [10.]]],\n",
            "\n",
            "\n",
            "        [[[11.],\n",
            "          [12.]],\n",
            "\n",
            "         [[13.],\n",
            "          [14.]],\n",
            "\n",
            "         [[15.],\n",
            "          [16.]],\n",
            "\n",
            "         [[17.],\n",
            "          [18.]],\n",
            "\n",
            "         [[19.],\n",
            "          [20.]]]])\n",
            "New shape: torch.Size([2, 5, 2, 1])\n"
          ]
        }
      ]
    },
    {
      "cell_type": "code",
      "source": [
        "# torch.permute() - rearranges the dimensions of a target tensor in a specified order\n",
        "x_original = torch.rand(size=(224, 224, 3))\n",
        "\n",
        "# Permute the original tensor to rearrange the axis (or dim) order\n",
        "x_permutted = x_original.permute(2, 0, 1) # shifts axis 0->1, 1->2, 2->0\n",
        "\n",
        "print(f\"Previous shape: {x_original.shape}\")\n",
        "print(f\"New shape: {x_permutted.shape}\") # [color_channels, height, width]"
      ],
      "metadata": {
        "colab": {
          "base_uri": "https://localhost:8080/"
        },
        "id": "ITC1n9QCcoJ8",
        "outputId": "41665f5d-4189-4686-e27c-9b51c8e9fce0"
      },
      "execution_count": 239,
      "outputs": [
        {
          "output_type": "stream",
          "name": "stdout",
          "text": [
            "Previous shape: torch.Size([224, 224, 3])\n",
            "New shape: torch.Size([3, 224, 224])\n"
          ]
        }
      ]
    },
    {
      "cell_type": "code",
      "source": [
        "x_original[0, 0, 0] = 728218\n",
        "x_original[0, 0, 0], x_permutted[0, 0, 0]"
      ],
      "metadata": {
        "colab": {
          "base_uri": "https://localhost:8080/"
        },
        "id": "UPILonNhePin",
        "outputId": "5131b4b3-db97-4ef7-a968-d8b48bccf0ff"
      },
      "execution_count": 242,
      "outputs": [
        {
          "output_type": "execute_result",
          "data": {
            "text/plain": [
              "(tensor(728218.), tensor(728218.))"
            ]
          },
          "metadata": {},
          "execution_count": 242
        }
      ]
    },
    {
      "cell_type": "markdown",
      "source": [
        "## Indexing (selecting data from tensors)\n",
        "\n",
        "Indexing with PyTorch is similar to indexing with NumPy."
      ],
      "metadata": {
        "id": "qEE6wuG4e_9I"
      }
    },
    {
      "cell_type": "code",
      "source": [
        "# Create a tensor\n",
        "x = torch.arange(1, 10).reshape(1, 3, 3)\n",
        "x, x.shape"
      ],
      "metadata": {
        "colab": {
          "base_uri": "https://localhost:8080/"
        },
        "id": "YHxj-wFffFnb",
        "outputId": "40fd9e72-d2e5-4eb0-cc7f-b59ad6c06673"
      },
      "execution_count": 244,
      "outputs": [
        {
          "output_type": "execute_result",
          "data": {
            "text/plain": [
              "(tensor([[[1, 2, 3],\n",
              "          [4, 5, 6],\n",
              "          [7, 8, 9]]]),\n",
              " torch.Size([1, 3, 3]))"
            ]
          },
          "metadata": {},
          "execution_count": 244
        }
      ]
    },
    {
      "cell_type": "code",
      "source": [
        "# Let´s index on our new tensor\n",
        "x[0]"
      ],
      "metadata": {
        "colab": {
          "base_uri": "https://localhost:8080/"
        },
        "id": "aF9JHfPBfZv7",
        "outputId": "0d4900f7-69ed-44c0-95a3-adf0566d4ab9"
      },
      "execution_count": 245,
      "outputs": [
        {
          "output_type": "execute_result",
          "data": {
            "text/plain": [
              "tensor([[1, 2, 3],\n",
              "        [4, 5, 6],\n",
              "        [7, 8, 9]])"
            ]
          },
          "metadata": {},
          "execution_count": 245
        }
      ]
    },
    {
      "cell_type": "code",
      "source": [
        "# Let´s index in the middle bracket (dim=1)\n",
        "x[0][0]"
      ],
      "metadata": {
        "colab": {
          "base_uri": "https://localhost:8080/"
        },
        "id": "PGTtlxrWfhME",
        "outputId": "f7240fae-c371-4659-dbd1-c57e728243ed"
      },
      "execution_count": 246,
      "outputs": [
        {
          "output_type": "execute_result",
          "data": {
            "text/plain": [
              "tensor([1, 2, 3])"
            ]
          },
          "metadata": {},
          "execution_count": 246
        }
      ]
    },
    {
      "cell_type": "code",
      "source": [
        "# Let´s index in the most inner bracket (last dimension)\n",
        "x[0][1][1]"
      ],
      "metadata": {
        "colab": {
          "base_uri": "https://localhost:8080/"
        },
        "id": "WQKHTctwfnLt",
        "outputId": "ef0b77b8-73d3-4e65-d25e-4d7cd5ee0135"
      },
      "execution_count": 265,
      "outputs": [
        {
          "output_type": "execute_result",
          "data": {
            "text/plain": [
              "tensor(5)"
            ]
          },
          "metadata": {},
          "execution_count": 265
        }
      ]
    },
    {
      "cell_type": "code",
      "source": [
        "# You can also use \":\" to select \"all\" of a target dimension\n",
        "x[:, 0]"
      ],
      "metadata": {
        "colab": {
          "base_uri": "https://localhost:8080/"
        },
        "id": "To_jGJUifv93",
        "outputId": "ea5cc438-0b89-4e7a-bdde-4260f5074e0d"
      },
      "execution_count": 249,
      "outputs": [
        {
          "output_type": "execute_result",
          "data": {
            "text/plain": [
              "tensor([[1, 2, 3]])"
            ]
          },
          "metadata": {},
          "execution_count": 249
        }
      ]
    },
    {
      "cell_type": "code",
      "source": [
        "# Get all values of 0th and 1st dimensions but only index 1 of 2nd dimension\n",
        "x[:, :, 1]"
      ],
      "metadata": {
        "colab": {
          "base_uri": "https://localhost:8080/"
        },
        "id": "AMrfoJOVgWrs",
        "outputId": "68334f90-21d1-4e6b-9ce8-a0670075ce49"
      },
      "execution_count": 266,
      "outputs": [
        {
          "output_type": "execute_result",
          "data": {
            "text/plain": [
              "tensor([[2, 5, 8]])"
            ]
          },
          "metadata": {},
          "execution_count": 266
        }
      ]
    },
    {
      "cell_type": "code",
      "source": [
        "# Index on x to return 9\n",
        "print(x[0][2][2])\n",
        "\n",
        "# Index on x to return 3, 6, 9\n",
        "print(x[:, :, 2])"
      ],
      "metadata": {
        "colab": {
          "base_uri": "https://localhost:8080/"
        },
        "id": "GNOS-xVDgfsK",
        "outputId": "92add9b9-8cb3-4c17-b75a-2276acdc58a1"
      },
      "execution_count": 275,
      "outputs": [
        {
          "output_type": "stream",
          "name": "stdout",
          "text": [
            "tensor(9)\n",
            "tensor([[3, 6, 9]])\n"
          ]
        }
      ]
    },
    {
      "cell_type": "markdown",
      "source": [
        "## PyTorch tensors & Numpy\n",
        "\n",
        "Numpy is a popular scientific numerical computing library.\n",
        "And because of this, PyTorch has functionality to interact with it.\n",
        "\n",
        "* Data in Numpy, want in PyTorch tensor -> `torch.from_numpy(ndarray)`\n",
        "* PyTorch tensor -> Numpy -> `torch.Tensor.numpy()`"
      ],
      "metadata": {
        "id": "u4ADInzrpr-K"
      }
    },
    {
      "cell_type": "code",
      "source": [
        "# Numpy array to tensor\n",
        "import numpy as np"
      ],
      "metadata": {
        "id": "fHg5N5WTpl-J"
      },
      "execution_count": 276,
      "outputs": []
    },
    {
      "cell_type": "code",
      "source": [
        "array = np.arange(1.0, 8.0)\n",
        "tensor = torch.from_numpy(array) # warning: when converting from numpy -> pytorch, pytorch reflects numpy´s default datatype of float64 unless specified otherwise\n",
        "array, tensor"
      ],
      "metadata": {
        "colab": {
          "base_uri": "https://localhost:8080/"
        },
        "id": "oLmA24uzqS0V",
        "outputId": "78b06aeb-a91e-4507-e644-59006ac551a8"
      },
      "execution_count": 278,
      "outputs": [
        {
          "output_type": "execute_result",
          "data": {
            "text/plain": [
              "(array([1., 2., 3., 4., 5., 6., 7.]),\n",
              " tensor([1., 2., 3., 4., 5., 6., 7.], dtype=torch.float64))"
            ]
          },
          "metadata": {},
          "execution_count": 278
        }
      ]
    },
    {
      "cell_type": "code",
      "source": [
        "# Change the value of array, what will this do to tensor?\n",
        "array = array + 1\n",
        "array, tensor"
      ],
      "metadata": {
        "colab": {
          "base_uri": "https://localhost:8080/"
        },
        "id": "g-EdO5v2rHfY",
        "outputId": "531c1c29-606c-452b-b048-ff7bd366c224"
      },
      "execution_count": 279,
      "outputs": [
        {
          "output_type": "execute_result",
          "data": {
            "text/plain": [
              "(array([2., 3., 4., 5., 6., 7., 8.]),\n",
              " tensor([1., 2., 3., 4., 5., 6., 7.], dtype=torch.float64))"
            ]
          },
          "metadata": {},
          "execution_count": 279
        }
      ]
    },
    {
      "cell_type": "code",
      "source": [
        "# Tensor to Numpy array\n",
        "tensor = torch.arange(1.0, 8.0)\n",
        "numpy_tensor = tensor.numpy()\n",
        "tensor, numpy_tensor"
      ],
      "metadata": {
        "colab": {
          "base_uri": "https://localhost:8080/"
        },
        "id": "aVhEWnS1rQE4",
        "outputId": "509e90ba-97d9-4143-b21d-4b6c5c42bc7a"
      },
      "execution_count": 282,
      "outputs": [
        {
          "output_type": "execute_result",
          "data": {
            "text/plain": [
              "(tensor([1., 2., 3., 4., 5., 6., 7.]),\n",
              " array([1., 2., 3., 4., 5., 6., 7.], dtype=float32))"
            ]
          },
          "metadata": {},
          "execution_count": 282
        }
      ]
    },
    {
      "cell_type": "code",
      "source": [
        "# Change the tensor, what happens to numpy_tensor?\n",
        "tensor = tensor + 1\n",
        "tensor, numpy_tensor"
      ],
      "metadata": {
        "colab": {
          "base_uri": "https://localhost:8080/"
        },
        "id": "tTU6xwANqd6o",
        "outputId": "8cff7247-d00b-48da-998d-9582b603afbf"
      },
      "execution_count": 283,
      "outputs": [
        {
          "output_type": "execute_result",
          "data": {
            "text/plain": [
              "(tensor([2., 3., 4., 5., 6., 7., 8.]),\n",
              " array([1., 2., 3., 4., 5., 6., 7.], dtype=float32))"
            ]
          },
          "metadata": {},
          "execution_count": 283
        }
      ]
    }
  ]
}